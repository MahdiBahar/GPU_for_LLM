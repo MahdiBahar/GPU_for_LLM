{
 "cells": [
  {
   "cell_type": "code",
   "execution_count": 1,
   "id": "11f61aa8",
   "metadata": {},
   "outputs": [
    {
     "name": "stdout",
     "output_type": "stream",
     "text": [
      "torch 2.7.0+cu126 CUDA available? True\n"
     ]
    },
    {
     "name": "stderr",
     "output_type": "stream",
     "text": [
      "/home/mahdi/GPU_for_LLM/.venv/lib/python3.12/site-packages/tqdm/auto.py:21: TqdmWarning: IProgress not found. Please update jupyter and ipywidgets. See https://ipywidgets.readthedocs.io/en/stable/user_install.html\n",
      "  from .autonotebook import tqdm as notebook_tqdm\n"
     ]
    },
    {
     "name": "stdout",
     "output_type": "stream",
     "text": [
      "INFO 07-16 12:57:43 [__init__.py:244] Automatically detected platform cuda.\n",
      "vLLM import OK: True\n"
     ]
    }
   ],
   "source": [
    "import torch, vllm\n",
    "print(\"torch\", torch.__version__, \"CUDA available?\", torch.cuda.is_available())\n",
    "print(\"vLLM import OK:\", hasattr(vllm, \"LLMEngine\"))"
   ]
  },
  {
   "cell_type": "code",
   "execution_count": null,
   "id": "1cd8d5b0",
   "metadata": {},
   "outputs": [],
   "source": []
  }
 ],
 "metadata": {
  "kernelspec": {
   "display_name": ".venv",
   "language": "python",
   "name": "python3"
  },
  "language_info": {
   "codemirror_mode": {
    "name": "ipython",
    "version": 3
   },
   "file_extension": ".py",
   "mimetype": "text/x-python",
   "name": "python",
   "nbconvert_exporter": "python",
   "pygments_lexer": "ipython3",
   "version": "3.12.4"
  }
 },
 "nbformat": 4,
 "nbformat_minor": 5
}
